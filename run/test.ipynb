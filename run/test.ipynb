{
 "cells": [
  {
   "cell_type": "code",
   "execution_count": 1,
   "id": "8122f071",
   "metadata": {},
   "outputs": [
    {
     "name": "stdout",
     "output_type": "stream",
     "text": [
      " \n",
      " Return limb-darkening and gravity-darkening coefficients\n",
      "\n",
      "  The coefficients for a 4-parameter limb-darkening law and the gravity\n",
      " darkening coefficient, y, are interpolated from the tables provided by Claret\n",
      " and Bloemen (2011A&A...529A..75C) for ATLAS stellar atmosphere models and an\n",
      " assumed micro-turbulent velocity xi=2 km/s calculated using a least-squares\n",
      " fit. Also available are limb-darkening coefficients for the SDSS u', g', r',\n",
      " i' and z' bands from Claret (2004A&A...428.1001C), but no gravity darkening\n",
      " coefficient is available for these bands.\n",
      "\n",
      "\n",
      "  To interpolate the limb-darkening and gravity-darkening coefficients at a\n",
      "  given effective temperature (T_eff in K), surface gravity (log(g) in cgs\n",
      "  units) and metallicity ([M/H] logarithmic metal abundance relative to\n",
      "  solar), create an instance of the class LimbGravityDarkeningCoeffs for the\n",
      "  desired photometric band and then call this instance with the parameters\n",
      "  (T_eff, log(g), [M/H]). The first 4 values in the array returned are the\n",
      "  limb-darkening coefficients a_1 .. a_4 and the final value is the\n",
      "  gravity-darkening coefficient, y.  If no gravity-darkening coefficient is\n",
      "  available then the fifth returned value will be None. \n",
      "\n",
      "  If the input values of T_eff, log(g) or [M/H] are outside the tabulated\n",
      "  range then all coefficients are returned as NaN.\n",
      "\n",
      "   To see the names of the available photometric bands use the function\n",
      "   ellc.ldy.list_bands(). For the SDSS bands, 'u_' = u', 'g_' = g', etc.\n",
      "\n",
      " Example\n",
      " -------\n",
      "  \n",
      " >>> from ellc.ldy import LimbGravityDarkeningCoeffs, list_bands\n",
      " >>> print(list_bands())\n",
      " ['B', 'C', 'H', 'I', 'J', 'K', 'Kp', 'R', 'S1', 'S2', 'S3', 'S4', 'U', 'V',\n",
      " 'b', 'u', 'v', 'y', 'u_', 'g_', 'r_', 'i_', 'z_']\n",
      " >>> ldy_Kp = LimbGravityDarkeningCoeffs('Kp')\n",
      " >>> Teff = 10450\n",
      " >>> logg = 3.9\n",
      " >>> M_H = -0.31\n",
      " >>> a1,a2,a3,a4,y = ldy_Kp(Teff, logg, M_H)\n",
      "\n",
      "\n"
     ]
    }
   ],
   "source": [
    "import ellc\n",
    "print(ellc.ldy.__doc__)"
   ]
  },
  {
   "cell_type": "code",
   "execution_count": null,
   "id": "950037a4",
   "metadata": {},
   "outputs": [
    {
     "ename": "NameError",
     "evalue": "name '__file__' is not defined",
     "output_type": "error",
     "traceback": [
      "\u001b[31m---------------------------------------------------------------------------\u001b[39m",
      "\u001b[31mNameError\u001b[39m                                 Traceback (most recent call last)",
      "\u001b[36mCell\u001b[39m\u001b[36m \u001b[39m\u001b[32mIn[1]\u001b[39m\u001b[32m, line 9\u001b[39m\n\u001b[32m      6\u001b[39m \u001b[38;5;28;01mimport\u001b[39;00m\u001b[38;5;250m \u001b[39m\u001b[34;01msubprocess\u001b[39;00m\n\u001b[32m      8\u001b[39m \u001b[38;5;66;03m# Determine the path to libellc.so\u001b[39;00m\n\u001b[32m----> \u001b[39m\u001b[32m9\u001b[39m ellc_path = os.path.join(os.path.dirname(\u001b[34;43m__file__\u001b[39;49m), \u001b[33m'\u001b[39m\u001b[33mellc\u001b[39m\u001b[33m'\u001b[39m)\n\u001b[32m     10\u001b[39m lib_path = os.path.join(ellc_path, \u001b[33m'\u001b[39m\u001b[33mellc\u001b[39m\u001b[33m'\u001b[39m,\u001b[33m'\u001b[39m\u001b[33mlibellc.so\u001b[39m\u001b[33m'\u001b[39m)\n\u001b[32m     11\u001b[39m \u001b[38;5;66;03m# Check if it exists\u001b[39;00m\n",
      "\u001b[31mNameError\u001b[39m: name '__file__' is not defined"
     ]
    }
   ],
   "source": []
  },
  {
   "cell_type": "code",
   "execution_count": null,
   "id": "24e4731b",
   "metadata": {},
   "outputs": [],
   "source": []
  },
  {
   "cell_type": "code",
   "execution_count": null,
   "id": "449157b1",
   "metadata": {},
   "outputs": [],
   "source": []
  }
 ],
 "metadata": {
  "kernelspec": {
   "display_name": ".exo_25_RM",
   "language": "python",
   "name": "python3"
  },
  "language_info": {
   "codemirror_mode": {
    "name": "ipython",
    "version": 3
   },
   "file_extension": ".py",
   "mimetype": "text/x-python",
   "name": "python",
   "nbconvert_exporter": "python",
   "pygments_lexer": "ipython3",
   "version": "3.11.13"
  }
 },
 "nbformat": 4,
 "nbformat_minor": 5
}
